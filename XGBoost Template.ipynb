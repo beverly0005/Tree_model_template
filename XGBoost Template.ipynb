{
 "cells": [
  {
   "cell_type": "markdown",
   "id": "6ee3174e",
   "metadata": {},
   "source": [
    "This notebook aims to create a template of model development, and use XGBoost as an example. For the other models, the idea is similar with minor changes in specific scripts."
   ]
  },
  {
   "cell_type": "markdown",
   "id": "bfbc22d8",
   "metadata": {},
   "source": [
    "# Import Libraries"
   ]
  },
  {
   "cell_type": "code",
   "execution_count": 1,
   "id": "582472b6",
   "metadata": {
    "ExecuteTime": {
     "end_time": "2022-10-28T10:23:48.100888Z",
     "start_time": "2022-10-28T10:23:45.301085Z"
    },
    "scrolled": true
   },
   "outputs": [],
   "source": [
    "# Basic \n",
    "import pandas as pd\n",
    "import numpy as np\n",
    "import pickle\n",
    "import yaml\n",
    "from itertools import product\n",
    "\n",
    "# Model development\n",
    "from sklearn import metrics, datasets\n",
    "from sklearn.model_selection import train_test_split, GridSearchCV\n",
    "from hyperopt import STATUS_OK, hp, tpe, Trials, fmin\n",
    "from random import sample\n",
    "import xgboost as xgb\n",
    "from xgboost import plot_importance\n",
    "\n",
    "# Plot\n",
    "import matplotlib.pyplot as plt\n",
    "import seaborn as sns\n",
    "\n",
    "# Other\n",
    "import warnings\n",
    "warnings.filterwarnings('ignore')\n",
    "\n",
    "# Custom\n",
    "from utils import *"
   ]
  },
  {
   "cell_type": "markdown",
   "id": "fcff6b4f",
   "metadata": {},
   "source": [
    "# User-Defined Parameters"
   ]
  },
  {
   "cell_type": "markdown",
   "id": "7db707b5",
   "metadata": {},
   "source": [
    "Section to collect all parameters and hyperparameters that impact model development in order to avoid manually modifying in the sections below"
   ]
  },
  {
   "cell_type": "code",
   "execution_count": 2,
   "id": "247da30e",
   "metadata": {
    "ExecuteTime": {
     "end_time": "2022-10-28T10:23:48.115942Z",
     "start_time": "2022-10-28T10:23:48.102932Z"
    }
   },
   "outputs": [],
   "source": [
    "with open('config.yml') as file:\n",
    "    config = yaml.safe_load(file)"
   ]
  },
  {
   "cell_type": "code",
   "execution_count": 3,
   "id": "2c764aa4",
   "metadata": {
    "ExecuteTime": {
     "end_time": "2022-10-28T10:23:48.174343Z",
     "start_time": "2022-10-28T10:23:48.126116Z"
    }
   },
   "outputs": [],
   "source": [
    "TARGET_VAR = config['model_develop']['features']['target_var']\n",
    "FEATURE_VARS = config['model_develop']['features']['feature_vars']\n",
    "\n",
    "SEP_VAR = config['model_develop']['sampling']['sep_var']\n",
    "SAMPLE_RATIO = config['model_develop']['sampling']['sample_ratio']\n",
    "\n",
    "MODEL_OTHERS = config['model_develop']['others']\n",
    "\n",
    "MODELFILE = config['filepaths']['output']['modelfile']"
   ]
  },
  {
   "cell_type": "code",
   "execution_count": 4,
   "id": "25e68875",
   "metadata": {
    "ExecuteTime": {
     "end_time": "2022-10-28T10:23:48.199043Z",
     "start_time": "2022-10-28T10:23:48.179254Z"
    }
   },
   "outputs": [],
   "source": [
    "SPACE = {\n",
    "    'colsample_bytree': hp.uniform('colsample_bytree', 0, 1),\n",
    "    'learning_rate': hp.loguniform('learning_rate', np.log(0.01), np.log(0.1)),\n",
    "    'n_estimators': hp.choice('n_estimators', np.arange(200, 1000, dtype=int)),\n",
    "    'colsample_bylevel': hp.uniform('colsample_bylevel', 0.3, 1),\n",
    "    'max_depth': hp.choice('max_depth', np.arange(3, 5, dtype=int)),\n",
    "    'subsample': hp.uniform('subsample', 0.5, 1), \n",
    "    'reg_alpha': hp.uniform('reg_alpha', 0, 1),\n",
    "    'reg_lambda': hp.uniform('reg_lambda', 0, 1)\n",
    "}"
   ]
  },
  {
   "cell_type": "markdown",
   "id": "a89097d5",
   "metadata": {},
   "source": [
    "# Load and Process Data"
   ]
  },
  {
   "cell_type": "code",
   "execution_count": 5,
   "id": "d2b45a91",
   "metadata": {
    "ExecuteTime": {
     "end_time": "2022-10-28T10:23:48.262052Z",
     "start_time": "2022-10-28T10:23:48.204469Z"
    }
   },
   "outputs": [
    {
     "name": "stdout",
     "output_type": "stream",
     "text": [
      "(506, 14)\n"
     ]
    },
    {
     "data": {
      "text/html": [
       "<div>\n",
       "<style scoped>\n",
       "    .dataframe tbody tr th:only-of-type {\n",
       "        vertical-align: middle;\n",
       "    }\n",
       "\n",
       "    .dataframe tbody tr th {\n",
       "        vertical-align: top;\n",
       "    }\n",
       "\n",
       "    .dataframe thead th {\n",
       "        text-align: right;\n",
       "    }\n",
       "</style>\n",
       "<table border=\"1\" class=\"dataframe\">\n",
       "  <thead>\n",
       "    <tr style=\"text-align: right;\">\n",
       "      <th></th>\n",
       "      <th>CRIM</th>\n",
       "      <th>ZN</th>\n",
       "      <th>INDUS</th>\n",
       "      <th>CHAS</th>\n",
       "      <th>NOX</th>\n",
       "      <th>RM</th>\n",
       "      <th>AGE</th>\n",
       "      <th>DIS</th>\n",
       "      <th>RAD</th>\n",
       "      <th>TAX</th>\n",
       "      <th>PTRATIO</th>\n",
       "      <th>B</th>\n",
       "      <th>LSTAT</th>\n",
       "      <th>target</th>\n",
       "    </tr>\n",
       "  </thead>\n",
       "  <tbody>\n",
       "    <tr>\n",
       "      <th>0</th>\n",
       "      <td>0.00632</td>\n",
       "      <td>18.0</td>\n",
       "      <td>2.31</td>\n",
       "      <td>0.0</td>\n",
       "      <td>0.538</td>\n",
       "      <td>6.575</td>\n",
       "      <td>65.2</td>\n",
       "      <td>4.0900</td>\n",
       "      <td>1.0</td>\n",
       "      <td>296.0</td>\n",
       "      <td>15.3</td>\n",
       "      <td>396.90</td>\n",
       "      <td>4.98</td>\n",
       "      <td>24.0</td>\n",
       "    </tr>\n",
       "    <tr>\n",
       "      <th>1</th>\n",
       "      <td>0.02731</td>\n",
       "      <td>0.0</td>\n",
       "      <td>7.07</td>\n",
       "      <td>0.0</td>\n",
       "      <td>0.469</td>\n",
       "      <td>6.421</td>\n",
       "      <td>78.9</td>\n",
       "      <td>4.9671</td>\n",
       "      <td>2.0</td>\n",
       "      <td>242.0</td>\n",
       "      <td>17.8</td>\n",
       "      <td>396.90</td>\n",
       "      <td>9.14</td>\n",
       "      <td>21.6</td>\n",
       "    </tr>\n",
       "    <tr>\n",
       "      <th>2</th>\n",
       "      <td>0.02729</td>\n",
       "      <td>0.0</td>\n",
       "      <td>7.07</td>\n",
       "      <td>0.0</td>\n",
       "      <td>0.469</td>\n",
       "      <td>7.185</td>\n",
       "      <td>61.1</td>\n",
       "      <td>4.9671</td>\n",
       "      <td>2.0</td>\n",
       "      <td>242.0</td>\n",
       "      <td>17.8</td>\n",
       "      <td>392.83</td>\n",
       "      <td>4.03</td>\n",
       "      <td>34.7</td>\n",
       "    </tr>\n",
       "    <tr>\n",
       "      <th>3</th>\n",
       "      <td>0.03237</td>\n",
       "      <td>0.0</td>\n",
       "      <td>2.18</td>\n",
       "      <td>0.0</td>\n",
       "      <td>0.458</td>\n",
       "      <td>6.998</td>\n",
       "      <td>45.8</td>\n",
       "      <td>6.0622</td>\n",
       "      <td>3.0</td>\n",
       "      <td>222.0</td>\n",
       "      <td>18.7</td>\n",
       "      <td>394.63</td>\n",
       "      <td>2.94</td>\n",
       "      <td>33.4</td>\n",
       "    </tr>\n",
       "    <tr>\n",
       "      <th>4</th>\n",
       "      <td>0.06905</td>\n",
       "      <td>0.0</td>\n",
       "      <td>2.18</td>\n",
       "      <td>0.0</td>\n",
       "      <td>0.458</td>\n",
       "      <td>7.147</td>\n",
       "      <td>54.2</td>\n",
       "      <td>6.0622</td>\n",
       "      <td>3.0</td>\n",
       "      <td>222.0</td>\n",
       "      <td>18.7</td>\n",
       "      <td>396.90</td>\n",
       "      <td>5.33</td>\n",
       "      <td>36.2</td>\n",
       "    </tr>\n",
       "  </tbody>\n",
       "</table>\n",
       "</div>"
      ],
      "text/plain": [
       "      CRIM    ZN  INDUS  CHAS    NOX     RM   AGE     DIS  RAD    TAX  \\\n",
       "0  0.00632  18.0   2.31   0.0  0.538  6.575  65.2  4.0900  1.0  296.0   \n",
       "1  0.02731   0.0   7.07   0.0  0.469  6.421  78.9  4.9671  2.0  242.0   \n",
       "2  0.02729   0.0   7.07   0.0  0.469  7.185  61.1  4.9671  2.0  242.0   \n",
       "3  0.03237   0.0   2.18   0.0  0.458  6.998  45.8  6.0622  3.0  222.0   \n",
       "4  0.06905   0.0   2.18   0.0  0.458  7.147  54.2  6.0622  3.0  222.0   \n",
       "\n",
       "   PTRATIO       B  LSTAT  target  \n",
       "0     15.3  396.90   4.98    24.0  \n",
       "1     17.8  396.90   9.14    21.6  \n",
       "2     17.8  392.83   4.03    34.7  \n",
       "3     18.7  394.63   2.94    33.4  \n",
       "4     18.7  396.90   5.33    36.2  "
      ]
     },
     "execution_count": 5,
     "metadata": {},
     "output_type": "execute_result"
    }
   ],
   "source": [
    "boston = datasets.load_boston()\n",
    "data = pd.DataFrame(data=boston['data'], columns=boston['feature_names'])\n",
    "data['target'] = boston['target']\n",
    "\n",
    "# print(boston['DESCR'])\n",
    "print(data.shape)\n",
    "data.head()"
   ]
  },
  {
   "cell_type": "markdown",
   "id": "f7ea5fd7",
   "metadata": {},
   "source": [
    "# Sample Strategy"
   ]
  },
  {
   "cell_type": "code",
   "execution_count": 6,
   "id": "4c0c9ec4",
   "metadata": {
    "ExecuteTime": {
     "end_time": "2022-10-28T10:23:48.293731Z",
     "start_time": "2022-10-28T10:23:48.264339Z"
    }
   },
   "outputs": [
    {
     "name": "stdout",
     "output_type": "stream",
     "text": [
      "(324, 13) (81, 13) (101, 13)\n"
     ]
    }
   ],
   "source": [
    "X_train, y_train, X_dev, y_dev, X_test, y_test = split_data(\n",
    "    data, TARGET_VAR, SEP_VAR, MODEL_OTHERS['random_state'], SAMPLE_RATIO)\n",
    "print(X_train.shape, X_dev.shape, X_test.shape)"
   ]
  },
  {
   "cell_type": "markdown",
   "id": "bb2fe7cc",
   "metadata": {},
   "source": [
    "# Model Development"
   ]
  },
  {
   "cell_type": "code",
   "execution_count": 7,
   "id": "047cf7c7",
   "metadata": {
    "ExecuteTime": {
     "end_time": "2022-10-28T10:23:48.595097Z",
     "start_time": "2022-10-28T10:23:48.296856Z"
    }
   },
   "outputs": [
    {
     "name": "stdout",
     "output_type": "stream",
     "text": [
      "[18:23:48] WARNING: C:/Users/administrator/workspace/xgboost-win64_release_1.6.0/src/learner.cc:627: \n",
      "Parameters: { \"objectives\" } might not be used.\n",
      "\n",
      "  This could be a false alarm, with some parameters getting used by language bindings but\n",
      "  then being mistakenly passed down to XGBoost core, or some parameter actually being used\n",
      "  but getting flagged wrongly here. Please open an issue if you find any such cases.\n",
      "\n",
      "\n"
     ]
    }
   ],
   "source": [
    "model = fit_model(X_train, y_train, X_dev, y_dev, {}, MODEL_OTHERS)"
   ]
  },
  {
   "cell_type": "code",
   "execution_count": 8,
   "id": "87e281e2",
   "metadata": {
    "ExecuteTime": {
     "end_time": "2022-10-28T10:23:48.625960Z",
     "start_time": "2022-10-28T10:23:48.597724Z"
    }
   },
   "outputs": [
    {
     "name": "stdout",
     "output_type": "stream",
     "text": [
      "MAE: 2.822, RMSE: 4.431, R2: 0.774\n"
     ]
    },
    {
     "data": {
      "text/plain": [
       "{'mae': 2.822, 'rmse': 4.431, 'r2': 0.774}"
      ]
     },
     "execution_count": 8,
     "metadata": {},
     "output_type": "execute_result"
    }
   ],
   "source": [
    "eval_model(model, X_test, y_test, _print=True)"
   ]
  },
  {
   "cell_type": "markdown",
   "id": "d322ab3d",
   "metadata": {},
   "source": [
    "# Hyperparameters Finetune"
   ]
  },
  {
   "cell_type": "markdown",
   "id": "d0e850b1",
   "metadata": {},
   "source": [
    "## First: Find Optimal Values"
   ]
  },
  {
   "cell_type": "code",
   "execution_count": 9,
   "id": "d9b34c73",
   "metadata": {
    "ExecuteTime": {
     "end_time": "2022-10-28T10:23:48.674530Z",
     "start_time": "2022-10-28T10:23:48.636895Z"
    }
   },
   "outputs": [],
   "source": [
    "def bayes_fn(params):\n",
    "    \"\"\"Function used to find the optimal hyperparameters for model\n",
    "    Input\n",
    "    params: a dictionary which is the space composed of choices for different hyperparameters\n",
    "    \"\"\"\n",
    "    \n",
    "    estimator = xgb.XGBRegressor(**params, random_state=MODEL_OTHERS['random_state'],\n",
    "                                 objectives='reg:squarederror')\n",
    "    estimator.fit(X_train,\n",
    "                y_train,\n",
    "                eval_set=[(X_dev, y_dev)],\n",
    "                eval_metric=MODEL_OTHERS['eval_metric'],\n",
    "                early_stopping_rounds=MODEL_OTHERS['earlystop'],\n",
    "                verbose=False)\n",
    "    \n",
    "    score = np.sqrt(metrics.mean_absolute_error(y_dev, estimator.predict(X_dev)))\n",
    "    \n",
    "    return {'loss': score, 'params': params, 'status': STATUS_OK}"
   ]
  },
  {
   "cell_type": "code",
   "execution_count": 10,
   "id": "7a8e195e",
   "metadata": {
    "ExecuteTime": {
     "end_time": "2022-10-28T10:24:00.954896Z",
     "start_time": "2022-10-28T10:23:48.678818Z"
    },
    "scrolled": true
   },
   "outputs": [
    {
     "name": "stdout",
     "output_type": "stream",
     "text": [
      "[18:23:48] WARNING: C:/Users/administrator/workspace/xgboost-win64_release_1.6.0/src/learner.cc:627:                   \n",
      "Parameters: { \"objectives\" } might not be used.\n",
      "\n",
      "  This could be a false alarm, with some parameters getting used by language bindings but\n",
      "  then being mistakenly passed down to XGBoost core, or some parameter actually being used\n",
      "  but getting flagged wrongly here. Please open an issue if you find any such cases.\n",
      "\n",
      "\n",
      "[18:23:50] WARNING: C:/Users/administrator/workspace/xgboost-win64_release_1.6.0/src/learner.cc:627:                   \n",
      "Parameters: { \"objectives\" } might not be used.\n",
      "\n",
      "  This could be a false alarm, with some parameters getting used by language bindings but\n",
      "  then being mistakenly passed down to XGBoost core, or some parameter actually being used\n",
      "  but getting flagged wrongly here. Please open an issue if you find any such cases.\n",
      "\n",
      "\n",
      "[18:23:51] WARNING: C:/Users/administrator/workspace/xgboost-win64_release_1.6.0/src/learner.cc:627:                   \n",
      "Parameters: { \"objectives\" } might not be used.\n",
      "\n",
      "  This could be a false alarm, with some parameters getting used by language bindings but\n",
      "  then being mistakenly passed down to XGBoost core, or some parameter actually being used\n",
      "  but getting flagged wrongly here. Please open an issue if you find any such cases.\n",
      "\n",
      "\n",
      "[18:23:53] WARNING: C:/Users/administrator/workspace/xgboost-win64_release_1.6.0/src/learner.cc:627:                   \n",
      "Parameters: { \"objectives\" } might not be used.\n",
      "\n",
      "  This could be a false alarm, with some parameters getting used by language bindings but\n",
      "  then being mistakenly passed down to XGBoost core, or some parameter actually being used\n",
      "  but getting flagged wrongly here. Please open an issue if you find any such cases.\n",
      "\n",
      "\n",
      "[18:23:53] WARNING: C:/Users/administrator/workspace/xgboost-win64_release_1.6.0/src/learner.cc:627:                   \n",
      "Parameters: { \"objectives\" } might not be used.\n",
      "\n",
      "  This could be a false alarm, with some parameters getting used by language bindings but\n",
      "  then being mistakenly passed down to XGBoost core, or some parameter actually being used\n",
      "  but getting flagged wrongly here. Please open an issue if you find any such cases.\n",
      "\n",
      "\n",
      "[18:23:54] WARNING: C:/Users/administrator/workspace/xgboost-win64_release_1.6.0/src/learner.cc:627:                   \n",
      "Parameters: { \"objectives\" } might not be used.\n",
      "\n",
      "  This could be a false alarm, with some parameters getting used by language bindings but\n",
      "  then being mistakenly passed down to XGBoost core, or some parameter actually being used\n",
      "  but getting flagged wrongly here. Please open an issue if you find any such cases.\n",
      "\n",
      "\n",
      "[18:23:55] WARNING: C:/Users/administrator/workspace/xgboost-win64_release_1.6.0/src/learner.cc:627:                   \n",
      "Parameters: { \"objectives\" } might not be used.\n",
      "\n",
      "  This could be a false alarm, with some parameters getting used by language bindings but\n",
      "  then being mistakenly passed down to XGBoost core, or some parameter actually being used\n",
      "  but getting flagged wrongly here. Please open an issue if you find any such cases.\n",
      "\n",
      "\n",
      "[18:23:57] WARNING: C:/Users/administrator/workspace/xgboost-win64_release_1.6.0/src/learner.cc:627:                   \n",
      "Parameters: { \"objectives\" } might not be used.\n",
      "\n",
      "  This could be a false alarm, with some parameters getting used by language bindings but\n",
      "  then being mistakenly passed down to XGBoost core, or some parameter actually being used\n",
      "  but getting flagged wrongly here. Please open an issue if you find any such cases.\n",
      "\n",
      "\n",
      "[18:23:58] WARNING: C:/Users/administrator/workspace/xgboost-win64_release_1.6.0/src/learner.cc:627:                   \n",
      "Parameters: { \"objectives\" } might not be used.\n",
      "\n",
      "  This could be a false alarm, with some parameters getting used by language bindings but\n",
      "  then being mistakenly passed down to XGBoost core, or some parameter actually being used\n",
      "  but getting flagged wrongly here. Please open an issue if you find any such cases.\n",
      "\n",
      "\n",
      "[18:23:59] WARNING: C:/Users/administrator/workspace/xgboost-win64_release_1.6.0/src/learner.cc:627:                   \n",
      "Parameters: { \"objectives\" } might not be used.\n",
      "\n",
      "  This could be a false alarm, with some parameters getting used by language bindings but\n",
      "  then being mistakenly passed down to XGBoost core, or some parameter actually being used\n",
      "  but getting flagged wrongly here. Please open an issue if you find any such cases.\n",
      "\n",
      "\n",
      "100%|████████████████████████████████████████████████| 10/10 [00:12<00:00,  1.20s/trial, best loss: 1.3300422334848285]\n",
      "CPU times: total: 33.4 s\n",
      "Wall time: 12.3 s\n"
     ]
    }
   ],
   "source": [
    "%%time\n",
    "bayes_trials1 = Trials()\n",
    "best_params = fmin(fn=bayes_fn, space=SPACE, algo=tpe.suggest, max_evals=10, trials=bayes_trials1)"
   ]
  },
  {
   "cell_type": "code",
   "execution_count": 11,
   "id": "8800790a",
   "metadata": {
    "ExecuteTime": {
     "end_time": "2022-10-28T10:24:00.977843Z",
     "start_time": "2022-10-28T10:24:00.962194Z"
    }
   },
   "outputs": [
    {
     "data": {
      "text/plain": [
       "{'colsample_bylevel': 0.9120694547004911,\n",
       " 'colsample_bytree': 0.646319791613206,\n",
       " 'learning_rate': 0.0912791042486038,\n",
       " 'max_depth': 1,\n",
       " 'n_estimators': 427,\n",
       " 'reg_alpha': 0.7233946524966508,\n",
       " 'reg_lambda': 0.3589550930855274,\n",
       " 'subsample': 0.6714714658459169}"
      ]
     },
     "execution_count": 11,
     "metadata": {},
     "output_type": "execute_result"
    }
   ],
   "source": [
    "best_params"
   ]
  },
  {
   "cell_type": "code",
   "execution_count": 12,
   "id": "6838a394",
   "metadata": {
    "ExecuteTime": {
     "end_time": "2022-10-28T10:24:01.953434Z",
     "start_time": "2022-10-28T10:24:00.981594Z"
    },
    "scrolled": true
   },
   "outputs": [
    {
     "name": "stdout",
     "output_type": "stream",
     "text": [
      "[18:24:01] WARNING: C:/Users/administrator/workspace/xgboost-win64_release_1.6.0/src/learner.cc:627: \n",
      "Parameters: { \"objectives\" } might not be used.\n",
      "\n",
      "  This could be a false alarm, with some parameters getting used by language bindings but\n",
      "  then being mistakenly passed down to XGBoost core, or some parameter actually being used\n",
      "  but getting flagged wrongly here. Please open an issue if you find any such cases.\n",
      "\n",
      "\n",
      "MAE: 2.387, RMSE: 3.279, R2: 0.868\n"
     ]
    },
    {
     "data": {
      "text/plain": [
       "{'mae': 2.387, 'rmse': 3.279, 'r2': 0.868}"
      ]
     },
     "execution_count": 12,
     "metadata": {},
     "output_type": "execute_result"
    }
   ],
   "source": [
    "model = fit_model(X_train, y_train, X_dev, y_dev, best_params, MODEL_OTHERS)\n",
    "eval_model(model, X_dev, y_dev, _print=True)"
   ]
  },
  {
   "cell_type": "markdown",
   "id": "6ec4b962",
   "metadata": {},
   "source": [
    "## Second: Grid Search"
   ]
  },
  {
   "cell_type": "markdown",
   "id": "af86816d",
   "metadata": {},
   "source": [
    "Grid search in the neighbour around best parameters"
   ]
  },
  {
   "cell_type": "code",
   "execution_count": 13,
   "id": "6864c7e6",
   "metadata": {
    "ExecuteTime": {
     "end_time": "2022-10-28T10:24:01.977328Z",
     "start_time": "2022-10-28T10:24:01.957535Z"
    }
   },
   "outputs": [],
   "source": [
    "grid_params = {\n",
    "    'colsample_bylevel': [0.4, 0.5],\n",
    "    'colsample_bytree': [0.7, 0.8],\n",
    "    'learning_rate': [0.02, 0.04],\n",
    "    'max_depth': [1, 2],\n",
    "    'n_estimators': [200],\n",
    "    'reg_alpha': [0.2],\n",
    "    'reg_lambda': [0.8],\n",
    "    'subsample': [0.9]\n",
    "}"
   ]
  },
  {
   "cell_type": "code",
   "execution_count": 14,
   "id": "c0b7a168",
   "metadata": {
    "ExecuteTime": {
     "end_time": "2022-10-28T10:24:08.288995Z",
     "start_time": "2022-10-28T10:24:01.989865Z"
    },
    "scrolled": true
   },
   "outputs": [
    {
     "name": "stdout",
     "output_type": "stream",
     "text": [
      "[18:24:02] WARNING: C:/Users/administrator/workspace/xgboost-win64_release_1.6.0/src/learner.cc:627: \n",
      "Parameters: { \"objectives\" } might not be used.\n",
      "\n",
      "  This could be a false alarm, with some parameters getting used by language bindings but\n",
      "  then being mistakenly passed down to XGBoost core, or some parameter actually being used\n",
      "  but getting flagged wrongly here. Please open an issue if you find any such cases.\n",
      "\n",
      "\n",
      "[18:24:02] WARNING: C:/Users/administrator/workspace/xgboost-win64_release_1.6.0/src/learner.cc:627: \n",
      "Parameters: { \"objectives\" } might not be used.\n",
      "\n",
      "  This could be a false alarm, with some parameters getting used by language bindings but\n",
      "  then being mistakenly passed down to XGBoost core, or some parameter actually being used\n",
      "  but getting flagged wrongly here. Please open an issue if you find any such cases.\n",
      "\n",
      "\n",
      "[18:24:03] WARNING: C:/Users/administrator/workspace/xgboost-win64_release_1.6.0/src/learner.cc:627: \n",
      "Parameters: { \"objectives\" } might not be used.\n",
      "\n",
      "  This could be a false alarm, with some parameters getting used by language bindings but\n",
      "  then being mistakenly passed down to XGBoost core, or some parameter actually being used\n",
      "  but getting flagged wrongly here. Please open an issue if you find any such cases.\n",
      "\n",
      "\n",
      "[18:24:03] WARNING: C:/Users/administrator/workspace/xgboost-win64_release_1.6.0/src/learner.cc:627: \n",
      "Parameters: { \"objectives\" } might not be used.\n",
      "\n",
      "  This could be a false alarm, with some parameters getting used by language bindings but\n",
      "  then being mistakenly passed down to XGBoost core, or some parameter actually being used\n",
      "  but getting flagged wrongly here. Please open an issue if you find any such cases.\n",
      "\n",
      "\n",
      "[18:24:03] WARNING: C:/Users/administrator/workspace/xgboost-win64_release_1.6.0/src/learner.cc:627: \n",
      "Parameters: { \"objectives\" } might not be used.\n",
      "\n",
      "  This could be a false alarm, with some parameters getting used by language bindings but\n",
      "  then being mistakenly passed down to XGBoost core, or some parameter actually being used\n",
      "  but getting flagged wrongly here. Please open an issue if you find any such cases.\n",
      "\n",
      "\n",
      "[18:24:04] WARNING: C:/Users/administrator/workspace/xgboost-win64_release_1.6.0/src/learner.cc:627: \n",
      "Parameters: { \"objectives\" } might not be used.\n",
      "\n",
      "  This could be a false alarm, with some parameters getting used by language bindings but\n",
      "  then being mistakenly passed down to XGBoost core, or some parameter actually being used\n",
      "  but getting flagged wrongly here. Please open an issue if you find any such cases.\n",
      "\n",
      "\n",
      "[18:24:04] WARNING: C:/Users/administrator/workspace/xgboost-win64_release_1.6.0/src/learner.cc:627: \n",
      "Parameters: { \"objectives\" } might not be used.\n",
      "\n",
      "  This could be a false alarm, with some parameters getting used by language bindings but\n",
      "  then being mistakenly passed down to XGBoost core, or some parameter actually being used\n",
      "  but getting flagged wrongly here. Please open an issue if you find any such cases.\n",
      "\n",
      "\n",
      "[18:24:05] WARNING: C:/Users/administrator/workspace/xgboost-win64_release_1.6.0/src/learner.cc:627: \n",
      "Parameters: { \"objectives\" } might not be used.\n",
      "\n",
      "  This could be a false alarm, with some parameters getting used by language bindings but\n",
      "  then being mistakenly passed down to XGBoost core, or some parameter actually being used\n",
      "  but getting flagged wrongly here. Please open an issue if you find any such cases.\n",
      "\n",
      "\n",
      "[18:24:05] WARNING: C:/Users/administrator/workspace/xgboost-win64_release_1.6.0/src/learner.cc:627: \n",
      "Parameters: { \"objectives\" } might not be used.\n",
      "\n",
      "  This could be a false alarm, with some parameters getting used by language bindings but\n",
      "  then being mistakenly passed down to XGBoost core, or some parameter actually being used\n",
      "  but getting flagged wrongly here. Please open an issue if you find any such cases.\n",
      "\n",
      "\n",
      "[18:24:05] WARNING: C:/Users/administrator/workspace/xgboost-win64_release_1.6.0/src/learner.cc:627: \n",
      "Parameters: { \"objectives\" } might not be used.\n",
      "\n",
      "  This could be a false alarm, with some parameters getting used by language bindings but\n",
      "  then being mistakenly passed down to XGBoost core, or some parameter actually being used\n",
      "  but getting flagged wrongly here. Please open an issue if you find any such cases.\n",
      "\n",
      "\n",
      "[18:24:06] WARNING: C:/Users/administrator/workspace/xgboost-win64_release_1.6.0/src/learner.cc:627: \n",
      "Parameters: { \"objectives\" } might not be used.\n",
      "\n",
      "  This could be a false alarm, with some parameters getting used by language bindings but\n",
      "  then being mistakenly passed down to XGBoost core, or some parameter actually being used\n",
      "  but getting flagged wrongly here. Please open an issue if you find any such cases.\n",
      "\n",
      "\n",
      "[18:24:06] WARNING: C:/Users/administrator/workspace/xgboost-win64_release_1.6.0/src/learner.cc:627: \n",
      "Parameters: { \"objectives\" } might not be used.\n",
      "\n",
      "  This could be a false alarm, with some parameters getting used by language bindings but\n",
      "  then being mistakenly passed down to XGBoost core, or some parameter actually being used\n",
      "  but getting flagged wrongly here. Please open an issue if you find any such cases.\n",
      "\n",
      "\n",
      "[18:24:07] WARNING: C:/Users/administrator/workspace/xgboost-win64_release_1.6.0/src/learner.cc:627: \n",
      "Parameters: { \"objectives\" } might not be used.\n",
      "\n",
      "  This could be a false alarm, with some parameters getting used by language bindings but\n",
      "  then being mistakenly passed down to XGBoost core, or some parameter actually being used\n",
      "  but getting flagged wrongly here. Please open an issue if you find any such cases.\n",
      "\n",
      "\n",
      "[18:24:07] WARNING: C:/Users/administrator/workspace/xgboost-win64_release_1.6.0/src/learner.cc:627: \n",
      "Parameters: { \"objectives\" } might not be used.\n",
      "\n",
      "  This could be a false alarm, with some parameters getting used by language bindings but\n",
      "  then being mistakenly passed down to XGBoost core, or some parameter actually being used\n",
      "  but getting flagged wrongly here. Please open an issue if you find any such cases.\n",
      "\n",
      "\n",
      "[18:24:07] WARNING: C:/Users/administrator/workspace/xgboost-win64_release_1.6.0/src/learner.cc:627: \n",
      "Parameters: { \"objectives\" } might not be used.\n",
      "\n",
      "  This could be a false alarm, with some parameters getting used by language bindings but\n",
      "  then being mistakenly passed down to XGBoost core, or some parameter actually being used\n",
      "  but getting flagged wrongly here. Please open an issue if you find any such cases.\n",
      "\n",
      "\n",
      "[18:24:07] WARNING: C:/Users/administrator/workspace/xgboost-win64_release_1.6.0/src/learner.cc:627: \n",
      "Parameters: { \"objectives\" } might not be used.\n",
      "\n",
      "  This could be a false alarm, with some parameters getting used by language bindings but\n",
      "  then being mistakenly passed down to XGBoost core, or some parameter actually being used\n",
      "  but getting flagged wrongly here. Please open an issue if you find any such cases.\n",
      "\n",
      "\n",
      "CPU times: total: 16.8 s\n",
      "Wall time: 6.25 s\n"
     ]
    }
   ],
   "source": [
    "%%time\n",
    "result = grid_search_result(grid_params, X_train, y_train, X_dev, y_dev, MODEL_OTHERS)"
   ]
  },
  {
   "cell_type": "code",
   "execution_count": 15,
   "id": "24880ce2",
   "metadata": {
    "ExecuteTime": {
     "end_time": "2022-10-28T10:24:08.328293Z",
     "start_time": "2022-10-28T10:24:08.293253Z"
    }
   },
   "outputs": [
    {
     "data": {
      "text/html": [
       "<div>\n",
       "<style scoped>\n",
       "    .dataframe tbody tr th:only-of-type {\n",
       "        vertical-align: middle;\n",
       "    }\n",
       "\n",
       "    .dataframe tbody tr th {\n",
       "        vertical-align: top;\n",
       "    }\n",
       "\n",
       "    .dataframe thead th {\n",
       "        text-align: right;\n",
       "    }\n",
       "</style>\n",
       "<table border=\"1\" class=\"dataframe\">\n",
       "  <thead>\n",
       "    <tr style=\"text-align: right;\">\n",
       "      <th></th>\n",
       "      <th>colsample_bylevel</th>\n",
       "      <th>colsample_bytree</th>\n",
       "      <th>learning_rate</th>\n",
       "      <th>max_depth</th>\n",
       "      <th>n_estimators</th>\n",
       "      <th>reg_alpha</th>\n",
       "      <th>reg_lambda</th>\n",
       "      <th>subsample</th>\n",
       "      <th>train_mae</th>\n",
       "      <th>train_rmse</th>\n",
       "      <th>train_r2</th>\n",
       "      <th>val_mae</th>\n",
       "      <th>val_rmse</th>\n",
       "      <th>val_r2</th>\n",
       "    </tr>\n",
       "  </thead>\n",
       "  <tbody>\n",
       "    <tr>\n",
       "      <th>0</th>\n",
       "      <td>0.4</td>\n",
       "      <td>0.7</td>\n",
       "      <td>0.02</td>\n",
       "      <td>1.0</td>\n",
       "      <td>200.0</td>\n",
       "      <td>0.2</td>\n",
       "      <td>0.8</td>\n",
       "      <td>0.9</td>\n",
       "      <td>2.854</td>\n",
       "      <td>3.975</td>\n",
       "      <td>0.813</td>\n",
       "      <td>3.225</td>\n",
       "      <td>4.826</td>\n",
       "      <td>0.715</td>\n",
       "    </tr>\n",
       "    <tr>\n",
       "      <th>1</th>\n",
       "      <td>0.4</td>\n",
       "      <td>0.7</td>\n",
       "      <td>0.02</td>\n",
       "      <td>2.0</td>\n",
       "      <td>200.0</td>\n",
       "      <td>0.2</td>\n",
       "      <td>0.8</td>\n",
       "      <td>0.9</td>\n",
       "      <td>2.143</td>\n",
       "      <td>2.943</td>\n",
       "      <td>0.897</td>\n",
       "      <td>2.665</td>\n",
       "      <td>3.808</td>\n",
       "      <td>0.822</td>\n",
       "    </tr>\n",
       "    <tr>\n",
       "      <th>2</th>\n",
       "      <td>0.4</td>\n",
       "      <td>0.7</td>\n",
       "      <td>0.04</td>\n",
       "      <td>1.0</td>\n",
       "      <td>200.0</td>\n",
       "      <td>0.2</td>\n",
       "      <td>0.8</td>\n",
       "      <td>0.9</td>\n",
       "      <td>2.299</td>\n",
       "      <td>3.159</td>\n",
       "      <td>0.882</td>\n",
       "      <td>2.884</td>\n",
       "      <td>4.097</td>\n",
       "      <td>0.794</td>\n",
       "    </tr>\n",
       "    <tr>\n",
       "      <th>3</th>\n",
       "      <td>0.4</td>\n",
       "      <td>0.7</td>\n",
       "      <td>0.04</td>\n",
       "      <td>2.0</td>\n",
       "      <td>200.0</td>\n",
       "      <td>0.2</td>\n",
       "      <td>0.8</td>\n",
       "      <td>0.9</td>\n",
       "      <td>1.699</td>\n",
       "      <td>2.275</td>\n",
       "      <td>0.939</td>\n",
       "      <td>2.552</td>\n",
       "      <td>3.352</td>\n",
       "      <td>0.862</td>\n",
       "    </tr>\n",
       "    <tr>\n",
       "      <th>4</th>\n",
       "      <td>0.4</td>\n",
       "      <td>0.8</td>\n",
       "      <td>0.02</td>\n",
       "      <td>1.0</td>\n",
       "      <td>200.0</td>\n",
       "      <td>0.2</td>\n",
       "      <td>0.8</td>\n",
       "      <td>0.9</td>\n",
       "      <td>2.796</td>\n",
       "      <td>3.889</td>\n",
       "      <td>0.821</td>\n",
       "      <td>3.181</td>\n",
       "      <td>4.709</td>\n",
       "      <td>0.728</td>\n",
       "    </tr>\n",
       "  </tbody>\n",
       "</table>\n",
       "</div>"
      ],
      "text/plain": [
       "  colsample_bylevel colsample_bytree learning_rate max_depth n_estimators  \\\n",
       "0               0.4              0.7          0.02       1.0        200.0   \n",
       "1               0.4              0.7          0.02       2.0        200.0   \n",
       "2               0.4              0.7          0.04       1.0        200.0   \n",
       "3               0.4              0.7          0.04       2.0        200.0   \n",
       "4               0.4              0.8          0.02       1.0        200.0   \n",
       "\n",
       "  reg_alpha reg_lambda subsample train_mae train_rmse train_r2 val_mae  \\\n",
       "0       0.2        0.8       0.9     2.854      3.975    0.813   3.225   \n",
       "1       0.2        0.8       0.9     2.143      2.943    0.897   2.665   \n",
       "2       0.2        0.8       0.9     2.299      3.159    0.882   2.884   \n",
       "3       0.2        0.8       0.9     1.699      2.275    0.939   2.552   \n",
       "4       0.2        0.8       0.9     2.796      3.889    0.821   3.181   \n",
       "\n",
       "  val_rmse val_r2  \n",
       "0    4.826  0.715  \n",
       "1    3.808  0.822  \n",
       "2    4.097  0.794  \n",
       "3    3.352  0.862  \n",
       "4    4.709  0.728  "
      ]
     },
     "execution_count": 15,
     "metadata": {},
     "output_type": "execute_result"
    }
   ],
   "source": [
    "result.head()"
   ]
  },
  {
   "cell_type": "code",
   "execution_count": 16,
   "id": "8e084d52",
   "metadata": {
    "ExecuteTime": {
     "end_time": "2022-10-28T10:24:08.647914Z",
     "start_time": "2022-10-28T10:24:08.331351Z"
    }
   },
   "outputs": [
    {
     "name": "stdout",
     "output_type": "stream",
     "text": [
      "val data: min_mae = 2.358, min_rmse = 3.133, max_r2 = 0.88\n"
     ]
    },
    {
     "data": {
      "image/png": "[encoded data removed]",
      "text/plain": [
       "<Figure size 432x288 with 1 Axes>"
      ]
     },
     "metadata": {
      "needs_background": "light"
     },
     "output_type": "display_data"
    }
   ],
   "source": [
    "for i in ['mae', 'rmse', 'r2']:\n",
    "    result['gap_' + i] = result['val_'+i] - result['train_'+i]\n",
    "    result['gap_' + i].hist(legend=True)\n",
    "    \n",
    "print(f'val data: min_mae = {result[\"val_mae\"].min()}, min_rmse = {result[\"val_rmse\"].min()}, max_r2 = {result[\"val_r2\"].max()}')"
   ]
  },
  {
   "cell_type": "code",
   "execution_count": 17,
   "id": "f0a9edac",
   "metadata": {
    "ExecuteTime": {
     "end_time": "2022-10-28T10:24:08.679159Z",
     "start_time": "2022-10-28T10:24:08.650593Z"
    },
    "scrolled": true
   },
   "outputs": [
    {
     "data": {
      "text/html": [
       "<div>\n",
       "<style scoped>\n",
       "    .dataframe tbody tr th:only-of-type {\n",
       "        vertical-align: middle;\n",
       "    }\n",
       "\n",
       "    .dataframe tbody tr th {\n",
       "        vertical-align: top;\n",
       "    }\n",
       "\n",
       "    .dataframe thead th {\n",
       "        text-align: right;\n",
       "    }\n",
       "</style>\n",
       "<table border=\"1\" class=\"dataframe\">\n",
       "  <thead>\n",
       "    <tr style=\"text-align: right;\">\n",
       "      <th></th>\n",
       "      <th>colsample_bylevel</th>\n",
       "      <th>colsample_bytree</th>\n",
       "      <th>learning_rate</th>\n",
       "      <th>max_depth</th>\n",
       "      <th>n_estimators</th>\n",
       "      <th>reg_alpha</th>\n",
       "      <th>reg_lambda</th>\n",
       "      <th>subsample</th>\n",
       "      <th>train_mae</th>\n",
       "      <th>train_rmse</th>\n",
       "      <th>train_r2</th>\n",
       "      <th>val_mae</th>\n",
       "      <th>val_rmse</th>\n",
       "      <th>val_r2</th>\n",
       "      <th>gap_mae</th>\n",
       "      <th>gap_rmse</th>\n",
       "      <th>gap_r2</th>\n",
       "    </tr>\n",
       "  </thead>\n",
       "  <tbody>\n",
       "    <tr>\n",
       "      <th>14</th>\n",
       "      <td>0.5</td>\n",
       "      <td>0.8</td>\n",
       "      <td>0.04</td>\n",
       "      <td>1.0</td>\n",
       "      <td>200.0</td>\n",
       "      <td>0.2</td>\n",
       "      <td>0.8</td>\n",
       "      <td>0.9</td>\n",
       "      <td>2.236</td>\n",
       "      <td>3.11</td>\n",
       "      <td>0.885</td>\n",
       "      <td>2.563</td>\n",
       "      <td>3.724</td>\n",
       "      <td>0.83</td>\n",
       "      <td>0.327</td>\n",
       "      <td>0.614</td>\n",
       "      <td>-0.055</td>\n",
       "    </tr>\n",
       "    <tr>\n",
       "      <th>12</th>\n",
       "      <td>0.5</td>\n",
       "      <td>0.8</td>\n",
       "      <td>0.02</td>\n",
       "      <td>1.0</td>\n",
       "      <td>200.0</td>\n",
       "      <td>0.2</td>\n",
       "      <td>0.8</td>\n",
       "      <td>0.9</td>\n",
       "      <td>2.678</td>\n",
       "      <td>3.723</td>\n",
       "      <td>0.836</td>\n",
       "      <td>2.949</td>\n",
       "      <td>4.373</td>\n",
       "      <td>0.766</td>\n",
       "      <td>0.271</td>\n",
       "      <td>0.65</td>\n",
       "      <td>-0.07</td>\n",
       "    </tr>\n",
       "    <tr>\n",
       "      <th>8</th>\n",
       "      <td>0.5</td>\n",
       "      <td>0.7</td>\n",
       "      <td>0.02</td>\n",
       "      <td>1.0</td>\n",
       "      <td>200.0</td>\n",
       "      <td>0.2</td>\n",
       "      <td>0.8</td>\n",
       "      <td>0.9</td>\n",
       "      <td>2.743</td>\n",
       "      <td>3.797</td>\n",
       "      <td>0.829</td>\n",
       "      <td>3.056</td>\n",
       "      <td>4.554</td>\n",
       "      <td>0.746</td>\n",
       "      <td>0.313</td>\n",
       "      <td>0.757</td>\n",
       "      <td>-0.083</td>\n",
       "    </tr>\n",
       "    <tr>\n",
       "      <th>4</th>\n",
       "      <td>0.4</td>\n",
       "      <td>0.8</td>\n",
       "      <td>0.02</td>\n",
       "      <td>1.0</td>\n",
       "      <td>200.0</td>\n",
       "      <td>0.2</td>\n",
       "      <td>0.8</td>\n",
       "      <td>0.9</td>\n",
       "      <td>2.796</td>\n",
       "      <td>3.889</td>\n",
       "      <td>0.821</td>\n",
       "      <td>3.181</td>\n",
       "      <td>4.709</td>\n",
       "      <td>0.728</td>\n",
       "      <td>0.385</td>\n",
       "      <td>0.82</td>\n",
       "      <td>-0.093</td>\n",
       "    </tr>\n",
       "    <tr>\n",
       "      <th>0</th>\n",
       "      <td>0.4</td>\n",
       "      <td>0.7</td>\n",
       "      <td>0.02</td>\n",
       "      <td>1.0</td>\n",
       "      <td>200.0</td>\n",
       "      <td>0.2</td>\n",
       "      <td>0.8</td>\n",
       "      <td>0.9</td>\n",
       "      <td>2.854</td>\n",
       "      <td>3.975</td>\n",
       "      <td>0.813</td>\n",
       "      <td>3.225</td>\n",
       "      <td>4.826</td>\n",
       "      <td>0.715</td>\n",
       "      <td>0.371</td>\n",
       "      <td>0.851</td>\n",
       "      <td>-0.098</td>\n",
       "    </tr>\n",
       "  </tbody>\n",
       "</table>\n",
       "</div>"
      ],
      "text/plain": [
       "   colsample_bylevel colsample_bytree learning_rate max_depth n_estimators  \\\n",
       "14               0.5              0.8          0.04       1.0        200.0   \n",
       "12               0.5              0.8          0.02       1.0        200.0   \n",
       "8                0.5              0.7          0.02       1.0        200.0   \n",
       "4                0.4              0.8          0.02       1.0        200.0   \n",
       "0                0.4              0.7          0.02       1.0        200.0   \n",
       "\n",
       "   reg_alpha reg_lambda subsample train_mae train_rmse train_r2 val_mae  \\\n",
       "14       0.2        0.8       0.9     2.236       3.11    0.885   2.563   \n",
       "12       0.2        0.8       0.9     2.678      3.723    0.836   2.949   \n",
       "8        0.2        0.8       0.9     2.743      3.797    0.829   3.056   \n",
       "4        0.2        0.8       0.9     2.796      3.889    0.821   3.181   \n",
       "0        0.2        0.8       0.9     2.854      3.975    0.813   3.225   \n",
       "\n",
       "   val_rmse val_r2 gap_mae gap_rmse gap_r2  \n",
       "14    3.724   0.83   0.327    0.614 -0.055  \n",
       "12    4.373  0.766   0.271     0.65  -0.07  \n",
       "8     4.554  0.746   0.313    0.757 -0.083  \n",
       "4     4.709  0.728   0.385     0.82 -0.093  \n",
       "0     4.826  0.715   0.371    0.851 -0.098  "
      ]
     },
     "execution_count": 17,
     "metadata": {},
     "output_type": "execute_result"
    }
   ],
   "source": [
    "result.loc[(result['gap_mae']<0.4)].sort_values(by='val_mae', ascending=True)"
   ]
  },
  {
   "cell_type": "code",
   "execution_count": 18,
   "id": "3ba63e44",
   "metadata": {
    "ExecuteTime": {
     "end_time": "2022-10-28T10:24:08.741676Z",
     "start_time": "2022-10-28T10:24:08.681788Z"
    },
    "scrolled": true
   },
   "outputs": [
    {
     "data": {
      "text/html": [
       "<div>\n",
       "<style scoped>\n",
       "    .dataframe tbody tr th:only-of-type {\n",
       "        vertical-align: middle;\n",
       "    }\n",
       "\n",
       "    .dataframe tbody tr th {\n",
       "        vertical-align: top;\n",
       "    }\n",
       "\n",
       "    .dataframe thead th {\n",
       "        text-align: right;\n",
       "    }\n",
       "</style>\n",
       "<table border=\"1\" class=\"dataframe\">\n",
       "  <thead>\n",
       "    <tr style=\"text-align: right;\">\n",
       "      <th></th>\n",
       "      <th>colsample_bylevel</th>\n",
       "      <th>colsample_bytree</th>\n",
       "      <th>learning_rate</th>\n",
       "      <th>max_depth</th>\n",
       "      <th>n_estimators</th>\n",
       "      <th>reg_alpha</th>\n",
       "      <th>reg_lambda</th>\n",
       "      <th>subsample</th>\n",
       "      <th>train_mae</th>\n",
       "      <th>train_rmse</th>\n",
       "      <th>train_r2</th>\n",
       "      <th>val_mae</th>\n",
       "      <th>val_rmse</th>\n",
       "      <th>val_r2</th>\n",
       "      <th>gap_mae</th>\n",
       "      <th>gap_rmse</th>\n",
       "      <th>gap_r2</th>\n",
       "    </tr>\n",
       "  </thead>\n",
       "  <tbody>\n",
       "    <tr>\n",
       "      <th>14</th>\n",
       "      <td>0.5</td>\n",
       "      <td>0.8</td>\n",
       "      <td>0.04</td>\n",
       "      <td>1.0</td>\n",
       "      <td>200.0</td>\n",
       "      <td>0.2</td>\n",
       "      <td>0.8</td>\n",
       "      <td>0.9</td>\n",
       "      <td>2.236</td>\n",
       "      <td>3.11</td>\n",
       "      <td>0.885</td>\n",
       "      <td>2.563</td>\n",
       "      <td>3.724</td>\n",
       "      <td>0.83</td>\n",
       "      <td>0.327</td>\n",
       "      <td>0.614</td>\n",
       "      <td>-0.055</td>\n",
       "    </tr>\n",
       "    <tr>\n",
       "      <th>12</th>\n",
       "      <td>0.5</td>\n",
       "      <td>0.8</td>\n",
       "      <td>0.02</td>\n",
       "      <td>1.0</td>\n",
       "      <td>200.0</td>\n",
       "      <td>0.2</td>\n",
       "      <td>0.8</td>\n",
       "      <td>0.9</td>\n",
       "      <td>2.678</td>\n",
       "      <td>3.723</td>\n",
       "      <td>0.836</td>\n",
       "      <td>2.949</td>\n",
       "      <td>4.373</td>\n",
       "      <td>0.766</td>\n",
       "      <td>0.271</td>\n",
       "      <td>0.65</td>\n",
       "      <td>-0.07</td>\n",
       "    </tr>\n",
       "    <tr>\n",
       "      <th>8</th>\n",
       "      <td>0.5</td>\n",
       "      <td>0.7</td>\n",
       "      <td>0.02</td>\n",
       "      <td>1.0</td>\n",
       "      <td>200.0</td>\n",
       "      <td>0.2</td>\n",
       "      <td>0.8</td>\n",
       "      <td>0.9</td>\n",
       "      <td>2.743</td>\n",
       "      <td>3.797</td>\n",
       "      <td>0.829</td>\n",
       "      <td>3.056</td>\n",
       "      <td>4.554</td>\n",
       "      <td>0.746</td>\n",
       "      <td>0.313</td>\n",
       "      <td>0.757</td>\n",
       "      <td>-0.083</td>\n",
       "    </tr>\n",
       "    <tr>\n",
       "      <th>4</th>\n",
       "      <td>0.4</td>\n",
       "      <td>0.8</td>\n",
       "      <td>0.02</td>\n",
       "      <td>1.0</td>\n",
       "      <td>200.0</td>\n",
       "      <td>0.2</td>\n",
       "      <td>0.8</td>\n",
       "      <td>0.9</td>\n",
       "      <td>2.796</td>\n",
       "      <td>3.889</td>\n",
       "      <td>0.821</td>\n",
       "      <td>3.181</td>\n",
       "      <td>4.709</td>\n",
       "      <td>0.728</td>\n",
       "      <td>0.385</td>\n",
       "      <td>0.82</td>\n",
       "      <td>-0.093</td>\n",
       "    </tr>\n",
       "    <tr>\n",
       "      <th>0</th>\n",
       "      <td>0.4</td>\n",
       "      <td>0.7</td>\n",
       "      <td>0.02</td>\n",
       "      <td>1.0</td>\n",
       "      <td>200.0</td>\n",
       "      <td>0.2</td>\n",
       "      <td>0.8</td>\n",
       "      <td>0.9</td>\n",
       "      <td>2.854</td>\n",
       "      <td>3.975</td>\n",
       "      <td>0.813</td>\n",
       "      <td>3.225</td>\n",
       "      <td>4.826</td>\n",
       "      <td>0.715</td>\n",
       "      <td>0.371</td>\n",
       "      <td>0.851</td>\n",
       "      <td>-0.098</td>\n",
       "    </tr>\n",
       "  </tbody>\n",
       "</table>\n",
       "</div>"
      ],
      "text/plain": [
       "   colsample_bylevel colsample_bytree learning_rate max_depth n_estimators  \\\n",
       "14               0.5              0.8          0.04       1.0        200.0   \n",
       "12               0.5              0.8          0.02       1.0        200.0   \n",
       "8                0.5              0.7          0.02       1.0        200.0   \n",
       "4                0.4              0.8          0.02       1.0        200.0   \n",
       "0                0.4              0.7          0.02       1.0        200.0   \n",
       "\n",
       "   reg_alpha reg_lambda subsample train_mae train_rmse train_r2 val_mae  \\\n",
       "14       0.2        0.8       0.9     2.236       3.11    0.885   2.563   \n",
       "12       0.2        0.8       0.9     2.678      3.723    0.836   2.949   \n",
       "8        0.2        0.8       0.9     2.743      3.797    0.829   3.056   \n",
       "4        0.2        0.8       0.9     2.796      3.889    0.821   3.181   \n",
       "0        0.2        0.8       0.9     2.854      3.975    0.813   3.225   \n",
       "\n",
       "   val_rmse val_r2 gap_mae gap_rmse gap_r2  \n",
       "14    3.724   0.83   0.327    0.614 -0.055  \n",
       "12    4.373  0.766   0.271     0.65  -0.07  \n",
       "8     4.554  0.746   0.313    0.757 -0.083  \n",
       "4     4.709  0.728   0.385     0.82 -0.093  \n",
       "0     4.826  0.715   0.371    0.851 -0.098  "
      ]
     },
     "execution_count": 18,
     "metadata": {},
     "output_type": "execute_result"
    }
   ],
   "source": [
    "result.loc[(result['gap_mae']<0.4)].sort_values(by='val_rmse', ascending=True)"
   ]
  },
  {
   "cell_type": "markdown",
   "id": "183e441c",
   "metadata": {},
   "source": [
    "## Finalize"
   ]
  },
  {
   "cell_type": "code",
   "execution_count": 19,
   "id": "4c724662",
   "metadata": {
    "ExecuteTime": {
     "end_time": "2022-10-28T10:24:09.385693Z",
     "start_time": "2022-10-28T10:24:08.744170Z"
    }
   },
   "outputs": [
    {
     "name": "stdout",
     "output_type": "stream",
     "text": [
      "[18:24:08] WARNING: C:/Users/administrator/workspace/xgboost-win64_release_1.6.0/src/learner.cc:627: \n",
      "Parameters: { \"objectives\" } might not be used.\n",
      "\n",
      "  This could be a false alarm, with some parameters getting used by language bindings but\n",
      "  then being mistakenly passed down to XGBoost core, or some parameter actually being used\n",
      "  but getting flagged wrongly here. Please open an issue if you find any such cases.\n",
      "\n",
      "\n",
      "MAE: 3.05, RMSE: 5.395, R2: 0.665\n"
     ]
    }
   ],
   "source": [
    "final_params = {'colsample_bylevel': 0.6,\n",
    " 'colsample_bytree': 0.7,\n",
    " 'learning_rate': 0.04,\n",
    " 'max_depth': 2,\n",
    " 'n_estimators': 400,\n",
    " 'reg_alpha': 0.2,\n",
    " 'reg_lambda': 0.5,\n",
    " 'subsample': 0.9}\n",
    "\n",
    "model = fit_model(X_train, y_train, X_dev, y_dev, best_params, MODEL_OTHERS)\n",
    "perf_test = eval_model(model, X_test, y_test, _print=True)"
   ]
  },
  {
   "cell_type": "markdown",
   "id": "49cb9985",
   "metadata": {},
   "source": [
    "### Model Performance"
   ]
  },
  {
   "cell_type": "code",
   "execution_count": 20,
   "id": "eacd0dc0",
   "metadata": {
    "ExecuteTime": {
     "end_time": "2022-10-28T10:24:09.415483Z",
     "start_time": "2022-10-28T10:24:09.393816Z"
    }
   },
   "outputs": [],
   "source": [
    "def plot_model(model, X_test, y_test):\n",
    "    pred = pd.DataFrame({'y': y_test, 'pred_y': model.predict(X_test)})\n",
    "    plt.scatter(pred['y'], pred['pred_y'])\n",
    "    plt.xlim(min(pred.min()), max(pred.max()))\n",
    "    plt.ylim(min(pred.min()), max(pred.max()))"
   ]
  },
  {
   "cell_type": "code",
   "execution_count": 21,
   "id": "ef1bcbac",
   "metadata": {
    "ExecuteTime": {
     "end_time": "2022-10-28T10:24:09.668659Z",
     "start_time": "2022-10-28T10:24:09.419514Z"
    }
   },
   "outputs": [
    {
     "data": {
      "image/png": "[encoded data removed]",
      "text/plain": [
       "<Figure size 432x288 with 1 Axes>"
      ]
     },
     "metadata": {
      "needs_background": "light"
     },
     "output_type": "display_data"
    }
   ],
   "source": [
    "plot_model(model, X_test, y_test)"
   ]
  },
  {
   "cell_type": "markdown",
   "id": "48591c0a",
   "metadata": {},
   "source": [
    "### Feature Importance"
   ]
  },
  {
   "cell_type": "code",
   "execution_count": 22,
   "id": "89908d8a",
   "metadata": {
    "ExecuteTime": {
     "end_time": "2022-10-28T10:24:09.683058Z",
     "start_time": "2022-10-28T10:24:09.671501Z"
    }
   },
   "outputs": [],
   "source": [
    "def plot_feature_imp(model, max_num_features=10):\n",
    "    booster = model.get_booster()\n",
    "\n",
    "    # Get the importance dictionary (by gain) from the booster\n",
    "    importance = booster.get_score(importance_type=\"gain\")\n",
    "\n",
    "    # make your changes\n",
    "    for key in importance.keys():\n",
    "        importance[key] = round(importance[key],2)\n",
    "\n",
    "    # provide the importance dictionary to the plotting function\n",
    "    ax = plot_importance(importance, max_num_features=max_num_features, importance_type='gain', show_values=True)"
   ]
  },
  {
   "cell_type": "code",
   "execution_count": 23,
   "id": "7099c7a0",
   "metadata": {
    "ExecuteTime": {
     "end_time": "2022-10-28T10:24:09.902022Z",
     "start_time": "2022-10-28T10:24:09.685706Z"
    }
   },
   "outputs": [
    {
     "data": {
      "image/png": "[encoded data removed]",
      "text/plain": [
       "<Figure size 432x288 with 1 Axes>"
      ]
     },
     "metadata": {
      "needs_background": "light"
     },
     "output_type": "display_data"
    }
   ],
   "source": [
    "plot_feature_imp(model)"
   ]
  }
 ],
 "metadata": {
  "kernelspec": {
   "display_name": "Python 3 (ipykernel)",
   "language": "python",
   "name": "python3"
  },
  "language_info": {
   "codemirror_mode": {
    "name": "ipython",
    "version": 3
   },
   "file_extension": ".py",
   "mimetype": "text/x-python",
   "name": "python",
   "nbconvert_exporter": "python",
   "pygments_lexer": "ipython3",
   "version": "3.9.12"
  },
  "toc": {
   "base_numbering": 1,
   "nav_menu": {},
   "number_sections": true,
   "sideBar": true,
   "skip_h1_title": false,
   "title_cell": "Table of Contents",
   "title_sidebar": "Contents",
   "toc_cell": false,
   "toc_position": {},
   "toc_section_display": true,
   "toc_window_display": true
  }
 },
 "nbformat": 4,
 "nbformat_minor": 5
}
